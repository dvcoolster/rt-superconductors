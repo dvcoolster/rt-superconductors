{
  "cells": [
    {
      "cell_type": "code",
      "execution_count": null,
      "metadata": {
        "vscode": {
          "languageId": "plaintext"
        }
      },
      "outputs": [],
      "source": [
        "# RBT Superconductor Discovery: Interactive τ/κ Landscape Explorer\n",
        "\n",
        "This notebook provides an interactive exploration of the **Recursive Becoming Theory (RBT)** τ/κ landscape for superconductor discovery.\n",
        "\n",
        "## Key RBT Metrics:\n",
        "- **τ (tau)**: Valence mismatch from split-octet deviations\n",
        "- **κ (kappa)**: Curvature penalty from discrete gravity\n",
        "- **Phase-locking score**: Cooper pair formation potential\n",
        "\n",
        "Reference: Chauhan & Chouhan (2025) \"Recursive Becoming: From Nothingness to Everything\"\n"
      ]
    },
    {
      "cell_type": "code",
      "execution_count": null,
      "metadata": {},
      "outputs": [],
      "source": [
        "import sys\n",
        "import numpy as np\n",
        "import pandas as pd\n",
        "import matplotlib.pyplot as plt\n",
        "import seaborn as sns\n",
        "import plotly.express as px\n",
        "import plotly.graph_objects as go\n",
        "from plotly.subplots import make_subplots\n",
        "import ipywidgets as widgets\n",
        "from IPython.display import display, HTML\n",
        "\n",
        "# Add src directory to path\n",
        "sys.path.append('../src')\n",
        "\n",
        "from utils.ledger import (\n",
        "    tau_valence_mismatch, \n",
        "    kappa_curvature_penalty,\n",
        "    phase_locking_score,\n",
        "    rbt_superconductor_score,\n",
        "    predict_tc_estimate\n",
        ")\n",
        "from utils.io import load_supercon_data, structure_from_composition\n",
        "\n",
        "from pymatgen.core import Composition, Element\n",
        "\n",
        "# Set style\n",
        "plt.style.use('seaborn-v0_8')\n",
        "sns.set_palette(\"husl\")\n",
        "\n",
        "print(\"🧬 RBT Superconductor Explorer Loaded\")\n",
        "print(\"📖 Reference: Recursive Becoming Theory v1.0\")\n"
      ]
    },
    {
      "cell_type": "code",
      "execution_count": null,
      "metadata": {},
      "outputs": [],
      "source": [
        "# Load SuperCon database and calculate RBT metrics\n",
        "supercon_data = load_supercon_data('../data-sources/supercon.csv')\n",
        "df_supercon = pd.DataFrame(supercon_data)\n",
        "\n",
        "print(f\"📊 Loaded {len(df_supercon)} known superconductors\")\n",
        "print(f\"📈 Tc range: {df_supercon['tc_k'].min():.3f} - {df_supercon['tc_k'].max():.1f} K\")\n",
        "\n",
        "# Calculate τ (valence mismatch) for a few examples\n",
        "examples = ['YBa2Cu3O7', 'MgB2', 'H3S', 'LaFeAsO0.9F0.1']\n",
        "\n",
        "print(\"\\n🔬 RBT τ calculations for known superconductors:\")\n",
        "for formula in examples:\n",
        "    try:\n",
        "        composition = Composition(formula)\n",
        "        tau = tau_valence_mismatch(composition)\n",
        "        tc = df_supercon[df_supercon['formula'] == formula]['tc_k'].iloc[0]\n",
        "        print(f\"• {formula}: τ = {tau:.4f}, Tc = {tc:.1f}K\")\n",
        "    except:\n",
        "        print(f\"• {formula}: Could not process\")\n",
        "\n",
        "print(\"\\n🎯 Low τ values (≈0) indicate better valence balance for superconductivity\")\n",
        "print(\"📖 This aligns with RBT's split-octet principle!\")\n"
      ]
    }
  ],
  "metadata": {
    "language_info": {
      "name": "python"
    }
  },
  "nbformat": 4,
  "nbformat_minor": 2
}
